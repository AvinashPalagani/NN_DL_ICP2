{
  "nbformat": 4,
  "nbformat_minor": 0,
  "metadata": {
    "colab": {
      "provenance": [],
      "mount_file_id": "1Dwqza__g2TFhWos232beLXoAxAD94Q4O",
      "authorship_tag": "ABX9TyMlIa0EAjlRrBYHWBxLinjw",
      "include_colab_link": true
    },
    "kernelspec": {
      "name": "python3",
      "display_name": "Python 3"
    },
    "language_info": {
      "name": "python"
    }
  },
  "cells": [
    {
      "cell_type": "markdown",
      "metadata": {
        "id": "view-in-github",
        "colab_type": "text"
      },
      "source": [
        "<a href=\"https://colab.research.google.com/github/AvinashPalagani/NN_DL_ICP2/blob/main/NN_DL_ICP2.ipynb\" target=\"_parent\"><img src=\"https://colab.research.google.com/assets/colab-badge.svg\" alt=\"Open In Colab\"/></a>"
      ]
    },
    {
      "cell_type": "code",
      "execution_count": 7,
      "metadata": {
        "colab": {
          "base_uri": "https://localhost:8080/"
        },
        "id": "_YsiXko1r3HA",
        "outputId": "37899737-59f0-4236-a67f-c8272558910a"
      },
      "outputs": [
        {
          "output_type": "stream",
          "name": "stdout",
          "text": [
            "Enter first name \n",
            "avinash\n",
            "Enter last name \n",
            "palagani\n",
            "full name :  avinash palagani\n",
            "alternate letters :  aiahplgn\n"
          ]
        }
      ],
      "source": [
        "\n",
        "# QUE 1\n",
        "\n",
        "first_name = input(\"Enter first name \\n\")\n",
        "last_name = input(\"Enter last name \\n\")\n",
        "\n",
        "def string_alternative(name):\n",
        "    return (name[::2])\n",
        "\n",
        "def fullName(first_name, last_name):\n",
        "    name = first_name + \" \" + last_name\n",
        "    print (\"full name : \", name)\n",
        "    sa = string_alternative(name)\n",
        "    print(\"alternate letters : \", sa)\n",
        "\n",
        "\n",
        "fullName(first_name, last_name)\n"
      ]
    },
    {
      "cell_type": "code",
      "source": [
        "# QUE 2\n",
        "\n",
        "from collections import Counter\n",
        "# to read file\n",
        "with open('/content/drive/My Drive/input.txt', 'r') as ipFile:\n",
        "    lines = ipFile.readlines()\n",
        "\n",
        "opLines = []\n",
        "\n",
        "#file1.close()\n",
        "listOfWords = []\n",
        "\n",
        "for line in lines:\n",
        "    opLines.append(line)\n",
        "    line = line.strip()\n",
        "    listOfWords.extend(line.split(\" \"))\n",
        "\n",
        "opLines.append(\"Word_Count:\")\n",
        "elementsCount = Counter(listOfWords)\n",
        "\n",
        "# to count occurance of each word\n",
        "for ele, count in elementsCount.items():\n",
        "  opLines.append(f\"{ele} - Count: {count}\")\n",
        "\n",
        "# to add content in file\n",
        "with open('/content/drive/My Drive/output.txt', 'w') as opFile:\n",
        "    for line in opLines:\n",
        "        opFile.write(line + '\\n')\n",
        "\n",
        "ipFile.close()\n",
        "opFile.close()"
      ],
      "metadata": {
        "id": "GjGZKvWSsDeb"
      },
      "execution_count": 2,
      "outputs": []
    },
    {
      "cell_type": "code",
      "source": [
        "# QUE 3\n",
        "\n",
        "inches = list(map(int, input().split(\" \")))\n",
        "cmList = []\n",
        "cm_comprehensions = []\n",
        "\n",
        "# Nested Interactive loop method\n",
        "for each in inches :\n",
        "    cm  = 2.54 * each\n",
        "    cmList.append(cm)\n",
        "\n",
        "print (\"Height in cm - Nested Interactive loop method \\n\", cmList)\n",
        "\n",
        "# List Comprehension method\n",
        "cm_comprehensions = [(height * 2.54) for height in inches]\n",
        "\n",
        "print (\"Height in cm - List Comprehension method \\n\", cm_comprehensions)"
      ],
      "metadata": {
        "colab": {
          "base_uri": "https://localhost:8080/"
        },
        "id": "NY_DJrLX1nbY",
        "outputId": "d4a3667f-fa4e-46ff-d8c6-1f9ae9c1367e"
      },
      "execution_count": 6,
      "outputs": [
        {
          "output_type": "stream",
          "name": "stdout",
          "text": [
            "65 68 85 70 55\n",
            "Height in cm - Nested Interactive loop method \n",
            " [165.1, 172.72, 215.9, 177.8, 139.7]\n",
            "Height in cm - List Comprehension method \n",
            " [165.1, 172.72, 215.9, 177.8, 139.7]\n"
          ]
        }
      ]
    }
  ]
}